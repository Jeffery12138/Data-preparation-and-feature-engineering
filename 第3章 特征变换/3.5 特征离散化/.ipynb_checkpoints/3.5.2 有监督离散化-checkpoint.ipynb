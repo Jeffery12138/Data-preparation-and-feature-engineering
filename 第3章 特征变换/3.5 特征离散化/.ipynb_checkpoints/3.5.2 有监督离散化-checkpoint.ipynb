{
 "cells": [
  {
   "cell_type": "code",
   "execution_count": 1,
   "metadata": {},
   "outputs": [
    {
     "data": {
      "text/plain": [
       "array([[0, 0, 1, 1, 1],\n",
       "       [1, 1, 0, 1, 0]])"
      ]
     },
     "execution_count": 1,
     "metadata": {},
     "output_type": "execute_result"
    }
   ],
   "source": [
    "import numpy as np\n",
    "import pandas as pd\n",
    "import matplotlib.pyplot as plt\n",
    "import entropy_based_binning as ebb\n",
    "\n",
    "A = np.array([[1, 1, 2, 3, 3], [1, 1, 0, 1, 0]])\n",
    "ebb.bin_array(A, nbins=2, axis=1)"
   ]
  },
  {
   "cell_type": "markdown",
   "metadata": {},
   "source": [
    "# 项目描述"
   ]
  },
  {
   "cell_type": "markdown",
   "metadata": {},
   "source": [
    "## 基于最小描述长度离散化（最小描述长度分箱）"
   ]
  },
  {
   "cell_type": "code",
   "execution_count": 2,
   "metadata": {
    "scrolled": true
   },
   "outputs": [
    {
     "data": {
      "text/plain": [
       "array([[0, 1, 0, 0],\n",
       "       [0, 0, 0, 0],\n",
       "       [0, 0, 0, 0],\n",
       "       [0, 0, 0, 0],\n",
       "       [0, 1, 0, 0],\n",
       "       [0, 1, 0, 0],\n",
       "       [0, 1, 0, 0],\n",
       "       [0, 1, 0, 0],\n",
       "       [0, 0, 0, 0],\n",
       "       [0, 0, 0, 0],\n",
       "       [0, 1, 0, 0],\n",
       "       [0, 1, 0, 0],\n",
       "       [0, 0, 0, 0],\n",
       "       [0, 0, 0, 0],\n",
       "       [1, 1, 0, 0],\n",
       "       [1, 1, 0, 0],\n",
       "       [0, 1, 0, 0],\n",
       "       [0, 1, 0, 0],\n",
       "       [1, 1, 0, 0],\n",
       "       [0, 1, 0, 0],\n",
       "       [0, 1, 0, 0],\n",
       "       [0, 1, 0, 0],\n",
       "       [0, 1, 0, 0],\n",
       "       [0, 1, 0, 0],\n",
       "       [0, 1, 0, 0],\n",
       "       [0, 0, 0, 0],\n",
       "       [0, 1, 0, 0],\n",
       "       [0, 1, 0, 0],\n",
       "       [0, 1, 0, 0],\n",
       "       [0, 0, 0, 0],\n",
       "       [0, 0, 0, 0],\n",
       "       [0, 1, 0, 0],\n",
       "       [0, 1, 0, 0],\n",
       "       [0, 1, 0, 0],\n",
       "       [0, 0, 0, 0],\n",
       "       [0, 0, 0, 0],\n",
       "       [0, 1, 0, 0],\n",
       "       [0, 1, 0, 0],\n",
       "       [0, 0, 0, 0],\n",
       "       [0, 1, 0, 0],\n",
       "       [0, 1, 0, 0],\n",
       "       [0, 0, 0, 0],\n",
       "       [0, 0, 0, 0],\n",
       "       [0, 1, 0, 0],\n",
       "       [0, 1, 0, 0],\n",
       "       [0, 0, 0, 0],\n",
       "       [0, 1, 0, 0],\n",
       "       [0, 0, 0, 0],\n",
       "       [0, 1, 0, 0],\n",
       "       [0, 1, 0, 0],\n",
       "       [2, 0, 1, 1],\n",
       "       [2, 0, 1, 1],\n",
       "       [2, 0, 1, 1],\n",
       "       [0, 0, 1, 1],\n",
       "       [2, 0, 1, 1],\n",
       "       [1, 0, 1, 1],\n",
       "       [2, 1, 1, 1],\n",
       "       [0, 0, 1, 1],\n",
       "       [2, 0, 1, 1],\n",
       "       [0, 0, 1, 1],\n",
       "       [0, 0, 1, 1],\n",
       "       [1, 0, 1, 1],\n",
       "       [1, 0, 1, 1],\n",
       "       [2, 0, 1, 1],\n",
       "       [1, 0, 1, 1],\n",
       "       [2, 0, 1, 1],\n",
       "       [1, 0, 1, 1],\n",
       "       [1, 0, 1, 1],\n",
       "       [2, 0, 1, 1],\n",
       "       [1, 0, 1, 1],\n",
       "       [1, 0, 1, 2],\n",
       "       [2, 0, 1, 1],\n",
       "       [2, 0, 1, 1],\n",
       "       [2, 0, 1, 1],\n",
       "       [2, 0, 1, 1],\n",
       "       [2, 0, 1, 1],\n",
       "       [2, 0, 1, 1],\n",
       "       [2, 0, 2, 1],\n",
       "       [1, 0, 1, 1],\n",
       "       [1, 0, 1, 1],\n",
       "       [0, 0, 1, 1],\n",
       "       [0, 0, 1, 1],\n",
       "       [1, 0, 1, 1],\n",
       "       [1, 0, 2, 1],\n",
       "       [0, 0, 1, 1],\n",
       "       [1, 1, 1, 1],\n",
       "       [2, 0, 1, 1],\n",
       "       [2, 0, 1, 1],\n",
       "       [1, 0, 1, 1],\n",
       "       [0, 0, 1, 1],\n",
       "       [0, 0, 1, 1],\n",
       "       [2, 0, 1, 1],\n",
       "       [1, 0, 1, 1],\n",
       "       [0, 0, 1, 1],\n",
       "       [1, 0, 1, 1],\n",
       "       [1, 0, 1, 1],\n",
       "       [1, 0, 1, 1],\n",
       "       [2, 0, 1, 1],\n",
       "       [0, 0, 1, 1],\n",
       "       [1, 0, 1, 1],\n",
       "       [2, 1, 2, 2],\n",
       "       [1, 0, 2, 2],\n",
       "       [2, 0, 2, 2],\n",
       "       [2, 0, 2, 2],\n",
       "       [2, 0, 2, 2],\n",
       "       [2, 0, 2, 2],\n",
       "       [0, 0, 1, 1],\n",
       "       [2, 0, 2, 2],\n",
       "       [2, 0, 2, 2],\n",
       "       [2, 1, 2, 2],\n",
       "       [2, 0, 2, 2],\n",
       "       [2, 0, 2, 2],\n",
       "       [2, 0, 2, 2],\n",
       "       [1, 0, 2, 2],\n",
       "       [1, 0, 2, 2],\n",
       "       [2, 0, 2, 2],\n",
       "       [2, 0, 2, 2],\n",
       "       [2, 1, 2, 2],\n",
       "       [2, 0, 2, 2],\n",
       "       [1, 0, 2, 1],\n",
       "       [2, 0, 2, 2],\n",
       "       [1, 0, 1, 2],\n",
       "       [2, 0, 2, 2],\n",
       "       [2, 0, 1, 2],\n",
       "       [2, 1, 2, 2],\n",
       "       [2, 0, 2, 2],\n",
       "       [2, 0, 1, 2],\n",
       "       [2, 0, 1, 2],\n",
       "       [2, 0, 2, 2],\n",
       "       [2, 0, 2, 1],\n",
       "       [2, 0, 2, 2],\n",
       "       [2, 1, 2, 2],\n",
       "       [2, 0, 2, 2],\n",
       "       [2, 0, 2, 1],\n",
       "       [2, 0, 2, 1],\n",
       "       [2, 0, 2, 2],\n",
       "       [2, 1, 2, 2],\n",
       "       [2, 0, 2, 2],\n",
       "       [1, 0, 1, 2],\n",
       "       [2, 0, 2, 2],\n",
       "       [2, 0, 2, 2],\n",
       "       [2, 0, 2, 2],\n",
       "       [1, 0, 2, 2],\n",
       "       [2, 0, 2, 2],\n",
       "       [2, 1, 2, 2],\n",
       "       [2, 0, 2, 2],\n",
       "       [2, 0, 2, 2],\n",
       "       [2, 0, 2, 2],\n",
       "       [2, 1, 2, 2],\n",
       "       [1, 0, 2, 2]])"
      ]
     },
     "execution_count": 2,
     "metadata": {},
     "output_type": "execute_result"
    }
   ],
   "source": [
    "from mdlp.discretization import MDLP\n",
    "from sklearn.datasets import load_iris\n",
    "transformer = MDLP()\n",
    "iris = load_iris()\n",
    "X, y = iris.data, iris.target\n",
    "X_disc = transformer.fit_transform(X, y)\n",
    "X_disc"
   ]
  },
  {
   "cell_type": "markdown",
   "metadata": {},
   "source": [
    "# 动手练习"
   ]
  },
  {
   "cell_type": "markdown",
   "metadata": {},
   "source": [
    "## 基于卡方分析的特征有监督离散化"
   ]
  },
  {
   "cell_type": "code",
   "execution_count": 3,
   "metadata": {},
   "outputs": [],
   "source": [
    "from scipy.stats import chi2_contingency\n",
    "chi2_contingency?"
   ]
  },
  {
   "cell_type": "code",
   "execution_count": 4,
   "metadata": {},
   "outputs": [
    {
     "data": {
      "text/plain": [
       "(2.7777777777777777,\n",
       " 0.24935220877729622,\n",
       " 2,\n",
       " array([[12., 12., 16.],\n",
       "        [18., 18., 24.]]))"
      ]
     },
     "execution_count": 4,
     "metadata": {},
     "output_type": "execute_result"
    }
   ],
   "source": [
    "from scipy.stats import chi2_contingency\n",
    "\n",
    "obs = np.array([[10, 10, 20], [20, 20, 20]])\n",
    "\n",
    "chi2_contingency(obs)"
   ]
  },
  {
   "cell_type": "code",
   "execution_count": null,
   "metadata": {},
   "outputs": [],
   "source": []
  }
 ],
 "metadata": {
  "kernelspec": {
   "display_name": "Python 3",
   "language": "python",
   "name": "python3"
  },
  "language_info": {
   "codemirror_mode": {
    "name": "ipython",
    "version": 3
   },
   "file_extension": ".py",
   "mimetype": "text/x-python",
   "name": "python",
   "nbconvert_exporter": "python",
   "pygments_lexer": "ipython3",
   "version": "3.8.5"
  }
 },
 "nbformat": 4,
 "nbformat_minor": 4
}
