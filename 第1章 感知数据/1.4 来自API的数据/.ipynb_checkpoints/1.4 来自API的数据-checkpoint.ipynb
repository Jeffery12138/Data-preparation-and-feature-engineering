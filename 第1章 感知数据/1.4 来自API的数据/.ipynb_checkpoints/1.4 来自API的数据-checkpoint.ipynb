{
 "cells": [
  {
   "cell_type": "code",
   "execution_count": 1,
   "metadata": {},
   "outputs": [
    {
     "data": {
      "text/plain": [
       "<Response [200]>"
      ]
     },
     "execution_count": 1,
     "metadata": {},
     "output_type": "execute_result"
    }
   ],
   "source": [
    "import requests\n",
    "url = \"https://api.github.com/users/qiwsir\"\n",
    "response = requests.get(url)\n",
    "response"
   ]
  },
  {
   "cell_type": "code",
   "execution_count": 2,
   "metadata": {},
   "outputs": [
    {
     "data": {
      "text/plain": [
       "{'login': 'qiwsir',\n",
       " 'id': 3646955,\n",
       " 'node_id': 'MDQ6VXNlcjM2NDY5NTU=',\n",
       " 'avatar_url': 'https://avatars.githubusercontent.com/u/3646955?v=4',\n",
       " 'gravatar_id': '',\n",
       " 'url': 'https://api.github.com/users/qiwsir',\n",
       " 'html_url': 'https://github.com/qiwsir',\n",
       " 'followers_url': 'https://api.github.com/users/qiwsir/followers',\n",
       " 'following_url': 'https://api.github.com/users/qiwsir/following{/other_user}',\n",
       " 'gists_url': 'https://api.github.com/users/qiwsir/gists{/gist_id}',\n",
       " 'starred_url': 'https://api.github.com/users/qiwsir/starred{/owner}{/repo}',\n",
       " 'subscriptions_url': 'https://api.github.com/users/qiwsir/subscriptions',\n",
       " 'organizations_url': 'https://api.github.com/users/qiwsir/orgs',\n",
       " 'repos_url': 'https://api.github.com/users/qiwsir/repos',\n",
       " 'events_url': 'https://api.github.com/users/qiwsir/events{/privacy}',\n",
       " 'received_events_url': 'https://api.github.com/users/qiwsir/received_events',\n",
       " 'type': 'User',\n",
       " 'site_admin': False,\n",
       " 'name': '老齐',\n",
       " 'company': '易水禾软件',\n",
       " 'blog': 'http://www.itdiffer.com',\n",
       " 'location': 'Suzhou China',\n",
       " 'email': None,\n",
       " 'hireable': True,\n",
       " 'bio': None,\n",
       " 'twitter_username': None,\n",
       " 'public_repos': 307,\n",
       " 'public_gists': 0,\n",
       " 'followers': 5285,\n",
       " 'following': 25,\n",
       " 'created_at': '2013-02-20T11:44:27Z',\n",
       " 'updated_at': '2021-01-22T11:11:07Z'}"
      ]
     },
     "execution_count": 2,
     "metadata": {},
     "output_type": "execute_result"
    }
   ],
   "source": [
    "response.json()"
   ]
  },
  {
   "cell_type": "code",
   "execution_count": 3,
   "metadata": {},
   "outputs": [
    {
     "data": {
      "text/html": [
       "<div>\n",
       "<style scoped>\n",
       "    .dataframe tbody tr th:only-of-type {\n",
       "        vertical-align: middle;\n",
       "    }\n",
       "\n",
       "    .dataframe tbody tr th {\n",
       "        vertical-align: top;\n",
       "    }\n",
       "\n",
       "    .dataframe thead th {\n",
       "        text-align: right;\n",
       "    }\n",
       "</style>\n",
       "<table border=\"1\" class=\"dataframe\">\n",
       "  <thead>\n",
       "    <tr style=\"text-align: right;\">\n",
       "      <th></th>\n",
       "      <th>login</th>\n",
       "      <th>name</th>\n",
       "      <th>blog</th>\n",
       "      <th>public_repos</th>\n",
       "      <th>followers</th>\n",
       "      <th>html_url</th>\n",
       "    </tr>\n",
       "  </thead>\n",
       "  <tbody>\n",
       "    <tr>\n",
       "      <th>0</th>\n",
       "      <td>qiwsir</td>\n",
       "      <td>老齐</td>\n",
       "      <td>http://www.itdiffer.com</td>\n",
       "      <td>307</td>\n",
       "      <td>5285</td>\n",
       "      <td>https://github.com/qiwsir</td>\n",
       "    </tr>\n",
       "  </tbody>\n",
       "</table>\n",
       "</div>"
      ],
      "text/plain": [
       "    login name                     blog  public_repos  followers  \\\n",
       "0  qiwsir   老齐  http://www.itdiffer.com           307       5285   \n",
       "\n",
       "                    html_url  \n",
       "0  https://github.com/qiwsir  "
      ]
     },
     "execution_count": 3,
     "metadata": {},
     "output_type": "execute_result"
    }
   ],
   "source": [
    "import pandas as pd\n",
    "data = response.json()\n",
    "login = data['login']\n",
    "name = data['name']\n",
    "blog = data['blog']\n",
    "public_repos = data['public_repos']\n",
    "followers = data['followers']\n",
    "html_url = data['html_url']\n",
    "df = pd.DataFrame([[login, name, blog, public_repos, followers, html_url]], \n",
    "                 columns=['login', 'name', 'blog', 'public_repos', 'followers', 'html_url'])\n",
    "df"
   ]
  },
  {
   "cell_type": "markdown",
   "metadata": {},
   "source": [
    "# 项目案例"
   ]
  },
  {
   "cell_type": "code",
   "execution_count": 4,
   "metadata": {},
   "outputs": [
    {
     "data": {
      "text/plain": [
       "{'errno': 0,\n",
       " 'request_id': '2183837654',\n",
       " 'timestamp': 1611495383,\n",
       " 'data': {'LocalNews': {'errno': 0,\n",
       "   'data': {'cityid': 2494,\n",
       "    'name': '南京',\n",
       "    'rows': {'pic': {'url': 'http://baijiahao.baidu.com/s?id=1689763103267207316',\n",
       "      'title': '提醒“马大哈”！地铁里这些地方容易丢东西',\n",
       "      'time': '18:22',\n",
       "      'imgUrl': 'https://t12.baidu.com/it/u=3206804702,4080253604&fm=173&app=49&f=JPEG?w=312&h=208&s=EE967480088FA4C87C088D910300F093'},\n",
       "     'first': [{'url': 'http://baijiahao.baidu.com/s?id=1689767587789361372',\n",
       "       'title': '闪电评论丨奇迹救援源于全力以赴',\n",
       "       'time': '19:33',\n",
       "       'imgUrl': 'http://t12.baidu.com/it/u=3968151344,4075215591&fm=173&app=49&f=JPEG?w=312&h=208&s=C412E532C58AECE81EC99DCA010070B3'},\n",
       "      {'url': 'http://baijiahao.baidu.com/s?id=1689750132728890401',\n",
       "       'title': '栖霞笏山金矿救援：第三批三名被困矿工成功升井',\n",
       "       'time': '15:03',\n",
       "       'imgUrl': 'http://t10.baidu.com/it/u=12164079,2377860081&fm=173&app=49&f=JPEG?w=312&h=208&s=D28408AB5E4220CA5C2C81A403000003'},\n",
       "      {'url': 'http://baijiahao.baidu.com/s?id=1689758698743948979',\n",
       "       'title': '11名矿工成功升井获救',\n",
       "       'time': '17:14',\n",
       "       'imgUrl': 'http://t11.baidu.com/it/u=3615979465,765068247&fm=173&app=49&f=JPEG?w=312&h=208&s=EAB00CC70A1B06D2824CCD2403001043'},\n",
       "      {'url': 'http://baijiahao.baidu.com/s?id=1689494065585447081',\n",
       "       'title': '日本老人在南京的草莓种植试验成功了，他用这颗草...',\n",
       "       'time': '19:13',\n",
       "       'imgUrl': 'http://t11.baidu.com/it/u=2173898785,1693901333&fm=173&app=49&f=JPEG?w=312&h=208&s=626AEAFB7668A2E204AC873F0300D056'},\n",
       "      {'url': 'http://baijiahao.baidu.com/s?id=1689757500619178542',\n",
       "       'title': '回顾2020，江苏文旅谱写夺取“双胜利”三部曲',\n",
       "       'time': '16:55',\n",
       "       'imgUrl': 'http://t12.baidu.com/it/u=3507090392,2455097955&fm=173&app=49&f=JPEG?w=312&h=208&s=66A209E5474C054941232A8903003096'},\n",
       "      {'url': 'http://baijiahao.baidu.com/s?id=1689588119021489762',\n",
       "       'title': '交界区域紧密联动 把牢省界疫情防控关罚单',\n",
       "       'time': '20:00',\n",
       "       'imgUrl': 'http://t11.baidu.com/it/u=3629810560,2576510961&fm=173&app=49&f=JPEG?w=312&h=208&s=F128901B48561ECA02171F840300F0A0'},\n",
       "      {'url': 'http://baijiahao.baidu.com/s?id=1689188102861672423',\n",
       "       'title': '玄武东街社区：退役士兵公益岗位人员扎根一线守初心',\n",
       "       'time': '10:02',\n",
       "       'imgUrl': 'http://t10.baidu.com/it/u=2683388004,1760200941&fm=173&app=49&f=JPEG?w=312&h=208&s=5B10D1AA16030AF034893D9B03009000'},\n",
       "      {'url': 'http://baijiahao.baidu.com/s?id=1689576695805769406',\n",
       "       'title': '栖霞金矿井下10名矿工身体状况良好，正通过喇叭...',\n",
       "       'time': '16:59',\n",
       "       'imgUrl': 'http://t11.baidu.com/it/u=2866745848,2920795388&fm=173&app=49&f=JPEG?w=312&h=208&s=A69415CF47F687C814EDB91403005041'}],\n",
       "     'second': [{'url': 'http://baijiahao.baidu.com/s?id=1689575843750945996',\n",
       "       'title': '为服务好残疾人 志愿者开展疫情防护培训学习',\n",
       "       'time': '16:45',\n",
       "       'imgUrl': 'http://t11.baidu.com/it/u=82608406,2568827574&fm=173&app=49&f=JPEG?w=312&h=208&s=6FBDAF463EF7648058FBDA780300A078'},\n",
       "      {'url': 'http://baijiahao.baidu.com/s?id=1689728096765785780',\n",
       "       'title': '江苏：就地过年不将就 真“薪”实意保障足',\n",
       "       'time': '09:11',\n",
       "       'imgUrl': 'http://t11.baidu.com/it/u=4242937903,2643114533&fm=173&app=49&f=JPEG?w=312&h=208&s=58350FD048D8D2C6021C8D59030080FA'},\n",
       "      {'url': 'http://baijiahao.baidu.com/s?id=1689734851272060301',\n",
       "       'title': '代表替您捎句话丨1218条网友留言 最关心“老...',\n",
       "       'time': '10:55',\n",
       "       'imgUrl': 'http://t12.baidu.com/it/u=2555880911,1670647223&fm=173&app=49&f=JPEG?w=312&h=208&s=53F78976DDB4E694CB8AD2F50300502D'},\n",
       "      {'url': 'http://baijiahao.baidu.com/s?id=1689761109844513556',\n",
       "       'title': '11人升井，一图复盘山东栖霞金矿“地心营救”',\n",
       "       'time': '17:50',\n",
       "       'imgUrl': 'http://t10.baidu.com/it/u=3029712237,591327509&fm=173&app=49&f=JPEG?w=312&h=208&s=A38064A74E125AD01E87E5FC0300101B'},\n",
       "      {'url': 'http://baijiahao.baidu.com/s?id=1689702669012458845',\n",
       "       'title': '最低零下3°C！冰冻、浓雾明天来袭！下周又要……',\n",
       "       'time': '02:22',\n",
       "       'imgUrl': 'http://t10.baidu.com/it/u=1638561648,3243221124&fm=173&app=49&f=JPEG?w=312&h=208&s=71819955CC1263C64E14888A0300E011'},\n",
       "      {'url': 'http://baijiahao.baidu.com/s?id=1689721572385433232',\n",
       "       'title': '矿井下，已有13天……',\n",
       "       'time': '07:30',\n",
       "       'imgUrl': 'http://t11.baidu.com/it/u=1151029114,4230414723&fm=173&app=49&f=JPEG?w=312&h=208&s=FF0041815E277898448591D10300D0B1'},\n",
       "      {'url': 'http://baijiahao.baidu.com/s?id=1689747485386473250',\n",
       "       'title': '中国城市科创发展指数2020：南京位列第四',\n",
       "       'time': '14:13',\n",
       "       'imgUrl': 'http://t11.baidu.com/it/u=3916017265,2937405490&fm=173&app=49&f=JPEG?w=312&h=208&s=B92E60945C33BECC4227488403003098'},\n",
       "      {'url': 'http://baijiahao.baidu.com/s?id=1689677599563359286',\n",
       "       'title': '深度｜新征程上首次省委深改委会议，江苏如何续写...',\n",
       "       'time': '19:43',\n",
       "       'imgUrl': 'http://t11.baidu.com/it/u=3103019587,3689679461&fm=173&app=49&f=JPEG?w=312&h=208&s=612209F772CB34E20CACFCA60300C013'}]}},\n",
       "   'ad': None}}}"
      ]
     },
     "execution_count": 4,
     "metadata": {},
     "output_type": "execute_result"
    }
   ],
   "source": [
    "url = \"https://news.baidu.com/widget?id=LocalNews&ajax=json\"\n",
    "r = requests.get(url)\n",
    "local_news = r.json()\n",
    "local_news"
   ]
  },
  {
   "cell_type": "code",
   "execution_count": 8,
   "metadata": {},
   "outputs": [
    {
     "data": {
      "text/plain": [
       "[{'url': 'http://baijiahao.baidu.com/s?id=1689767587789361372',\n",
       "  'title': '闪电评论丨奇迹救援源于全力以赴',\n",
       "  'time': '19:33',\n",
       "  'imgUrl': 'http://t12.baidu.com/it/u=3968151344,4075215591&fm=173&app=49&f=JPEG?w=312&h=208&s=C412E532C58AECE81EC99DCA010070B3'},\n",
       " {'url': 'http://baijiahao.baidu.com/s?id=1689750132728890401',\n",
       "  'title': '栖霞笏山金矿救援：第三批三名被困矿工成功升井',\n",
       "  'time': '15:03',\n",
       "  'imgUrl': 'http://t10.baidu.com/it/u=12164079,2377860081&fm=173&app=49&f=JPEG?w=312&h=208&s=D28408AB5E4220CA5C2C81A403000003'},\n",
       " {'url': 'http://baijiahao.baidu.com/s?id=1689758698743948979',\n",
       "  'title': '11名矿工成功升井获救',\n",
       "  'time': '17:14',\n",
       "  'imgUrl': 'http://t11.baidu.com/it/u=3615979465,765068247&fm=173&app=49&f=JPEG?w=312&h=208&s=EAB00CC70A1B06D2824CCD2403001043'},\n",
       " {'url': 'http://baijiahao.baidu.com/s?id=1689494065585447081',\n",
       "  'title': '日本老人在南京的草莓种植试验成功了，他用这颗草...',\n",
       "  'time': '19:13',\n",
       "  'imgUrl': 'http://t11.baidu.com/it/u=2173898785,1693901333&fm=173&app=49&f=JPEG?w=312&h=208&s=626AEAFB7668A2E204AC873F0300D056'},\n",
       " {'url': 'http://baijiahao.baidu.com/s?id=1689757500619178542',\n",
       "  'title': '回顾2020，江苏文旅谱写夺取“双胜利”三部曲',\n",
       "  'time': '16:55',\n",
       "  'imgUrl': 'http://t12.baidu.com/it/u=3507090392,2455097955&fm=173&app=49&f=JPEG?w=312&h=208&s=66A209E5474C054941232A8903003096'},\n",
       " {'url': 'http://baijiahao.baidu.com/s?id=1689588119021489762',\n",
       "  'title': '交界区域紧密联动 把牢省界疫情防控关罚单',\n",
       "  'time': '20:00',\n",
       "  'imgUrl': 'http://t11.baidu.com/it/u=3629810560,2576510961&fm=173&app=49&f=JPEG?w=312&h=208&s=F128901B48561ECA02171F840300F0A0'},\n",
       " {'url': 'http://baijiahao.baidu.com/s?id=1689188102861672423',\n",
       "  'title': '玄武东街社区：退役士兵公益岗位人员扎根一线守初心',\n",
       "  'time': '10:02',\n",
       "  'imgUrl': 'http://t10.baidu.com/it/u=2683388004,1760200941&fm=173&app=49&f=JPEG?w=312&h=208&s=5B10D1AA16030AF034893D9B03009000'},\n",
       " {'url': 'http://baijiahao.baidu.com/s?id=1689576695805769406',\n",
       "  'title': '栖霞金矿井下10名矿工身体状况良好，正通过喇叭...',\n",
       "  'time': '16:59',\n",
       "  'imgUrl': 'http://t11.baidu.com/it/u=2866745848,2920795388&fm=173&app=49&f=JPEG?w=312&h=208&s=A69415CF47F687C814EDB91403005041'}]"
      ]
     },
     "execution_count": 8,
     "metadata": {},
     "output_type": "execute_result"
    }
   ],
   "source": [
    "news = local_news['data']['LocalNews']['data']['rows']['first']\n",
    "news"
   ]
  },
  {
   "cell_type": "code",
   "execution_count": 9,
   "metadata": {},
   "outputs": [],
   "source": [
    "news_df = pd.DataFrame(columns=['title', 'url', 'time'])"
   ]
  },
  {
   "cell_type": "code",
   "execution_count": 11,
   "metadata": {},
   "outputs": [
    {
     "data": {
      "text/html": [
       "<div>\n",
       "<style scoped>\n",
       "    .dataframe tbody tr th:only-of-type {\n",
       "        vertical-align: middle;\n",
       "    }\n",
       "\n",
       "    .dataframe tbody tr th {\n",
       "        vertical-align: top;\n",
       "    }\n",
       "\n",
       "    .dataframe thead th {\n",
       "        text-align: right;\n",
       "    }\n",
       "</style>\n",
       "<table border=\"1\" class=\"dataframe\">\n",
       "  <thead>\n",
       "    <tr style=\"text-align: right;\">\n",
       "      <th></th>\n",
       "      <th>title</th>\n",
       "      <th>url</th>\n",
       "      <th>time</th>\n",
       "    </tr>\n",
       "  </thead>\n",
       "  <tbody>\n",
       "    <tr>\n",
       "      <th>0</th>\n",
       "      <td>闪电评论丨奇迹救援源于全力以赴</td>\n",
       "      <td>http://baijiahao.baidu.com/s?id=16897675877893...</td>\n",
       "      <td>19:33</td>\n",
       "    </tr>\n",
       "    <tr>\n",
       "      <th>1</th>\n",
       "      <td>栖霞笏山金矿救援：第三批三名被困矿工成功升井</td>\n",
       "      <td>http://baijiahao.baidu.com/s?id=16897501327288...</td>\n",
       "      <td>15:03</td>\n",
       "    </tr>\n",
       "    <tr>\n",
       "      <th>2</th>\n",
       "      <td>11名矿工成功升井获救</td>\n",
       "      <td>http://baijiahao.baidu.com/s?id=16897586987439...</td>\n",
       "      <td>17:14</td>\n",
       "    </tr>\n",
       "    <tr>\n",
       "      <th>3</th>\n",
       "      <td>日本老人在南京的草莓种植试验成功了，他用这颗草...</td>\n",
       "      <td>http://baijiahao.baidu.com/s?id=16894940655854...</td>\n",
       "      <td>19:13</td>\n",
       "    </tr>\n",
       "    <tr>\n",
       "      <th>4</th>\n",
       "      <td>回顾2020，江苏文旅谱写夺取“双胜利”三部曲</td>\n",
       "      <td>http://baijiahao.baidu.com/s?id=16897575006191...</td>\n",
       "      <td>16:55</td>\n",
       "    </tr>\n",
       "    <tr>\n",
       "      <th>5</th>\n",
       "      <td>交界区域紧密联动 把牢省界疫情防控关罚单</td>\n",
       "      <td>http://baijiahao.baidu.com/s?id=16895881190214...</td>\n",
       "      <td>20:00</td>\n",
       "    </tr>\n",
       "    <tr>\n",
       "      <th>6</th>\n",
       "      <td>玄武东街社区：退役士兵公益岗位人员扎根一线守初心</td>\n",
       "      <td>http://baijiahao.baidu.com/s?id=16891881028616...</td>\n",
       "      <td>10:02</td>\n",
       "    </tr>\n",
       "    <tr>\n",
       "      <th>7</th>\n",
       "      <td>栖霞金矿井下10名矿工身体状况良好，正通过喇叭...</td>\n",
       "      <td>http://baijiahao.baidu.com/s?id=16895766958057...</td>\n",
       "      <td>16:59</td>\n",
       "    </tr>\n",
       "  </tbody>\n",
       "</table>\n",
       "</div>"
      ],
      "text/plain": [
       "                        title  \\\n",
       "0             闪电评论丨奇迹救援源于全力以赴   \n",
       "1      栖霞笏山金矿救援：第三批三名被困矿工成功升井   \n",
       "2                 11名矿工成功升井获救   \n",
       "3  日本老人在南京的草莓种植试验成功了，他用这颗草...   \n",
       "4     回顾2020，江苏文旅谱写夺取“双胜利”三部曲   \n",
       "5        交界区域紧密联动 把牢省界疫情防控关罚单   \n",
       "6    玄武东街社区：退役士兵公益岗位人员扎根一线守初心   \n",
       "7  栖霞金矿井下10名矿工身体状况良好，正通过喇叭...   \n",
       "\n",
       "                                                 url   time  \n",
       "0  http://baijiahao.baidu.com/s?id=16897675877893...  19:33  \n",
       "1  http://baijiahao.baidu.com/s?id=16897501327288...  15:03  \n",
       "2  http://baijiahao.baidu.com/s?id=16897586987439...  17:14  \n",
       "3  http://baijiahao.baidu.com/s?id=16894940655854...  19:13  \n",
       "4  http://baijiahao.baidu.com/s?id=16897575006191...  16:55  \n",
       "5  http://baijiahao.baidu.com/s?id=16895881190214...  20:00  \n",
       "6  http://baijiahao.baidu.com/s?id=16891881028616...  10:02  \n",
       "7  http://baijiahao.baidu.com/s?id=16895766958057...  16:59  "
      ]
     },
     "execution_count": 11,
     "metadata": {},
     "output_type": "execute_result"
    }
   ],
   "source": [
    "for one in news:\n",
    "    news_df = news_df.append({'title': one['title'],\n",
    "                             'time': one['time'],\n",
    "                             'url': one['url']}, ignore_index=True)\n",
    "news_df"
   ]
  },
  {
   "cell_type": "code",
   "execution_count": 12,
   "metadata": {},
   "outputs": [],
   "source": [
    "news_df.to_csv(\"./news.csv\")"
   ]
  },
  {
   "cell_type": "markdown",
   "metadata": {},
   "source": [
    "# 动手练习"
   ]
  },
  {
   "cell_type": "markdown",
   "metadata": {},
   "source": [
    "url = \"https://www.sojson.com/open/api/lunar/json.shtml?date={date},date的格式为‘年-月-日’\""
   ]
  },
  {
   "cell_type": "code",
   "execution_count": 13,
   "metadata": {},
   "outputs": [
    {
     "data": {
      "text/plain": [
       "{'status': 200,\n",
       " 'message': '由于请求量巨大，接口停用，源码出售，有需要请联系：QQ8446666。',\n",
       " 'message2': 'Due to a large number of requests, interface outage, source code for sale, there is a need to contact: i@itboy.net.'}"
      ]
     },
     "execution_count": 13,
     "metadata": {},
     "output_type": "execute_result"
    }
   ],
   "source": [
    "url = \"https://www.sojson.com/open/api/lunar/json.shtml?date=2019-07-28\"\n",
    "response = requests.get(url)\n",
    "response.json()"
   ]
  },
  {
   "cell_type": "code",
   "execution_count": null,
   "metadata": {},
   "outputs": [],
   "source": []
  }
 ],
 "metadata": {
  "kernelspec": {
   "display_name": "Python 3",
   "language": "python",
   "name": "python3"
  },
  "language_info": {
   "codemirror_mode": {
    "name": "ipython",
    "version": 3
   },
   "file_extension": ".py",
   "mimetype": "text/x-python",
   "name": "python",
   "nbconvert_exporter": "python",
   "pygments_lexer": "ipython3",
   "version": "3.8.5"
  }
 },
 "nbformat": 4,
 "nbformat_minor": 4
}
