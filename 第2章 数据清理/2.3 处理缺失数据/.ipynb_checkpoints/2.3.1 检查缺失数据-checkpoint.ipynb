{
 "cells": [
  {
   "cell_type": "code",
   "execution_count": 2,
   "metadata": {},
   "outputs": [
    {
     "name": "stdout",
     "output_type": "stream",
     "text": [
      "None\n"
     ]
    }
   ],
   "source": [
    "def foo(): pass\n",
    "f = foo()\n",
    "print(f)"
   ]
  },
  {
   "cell_type": "code",
   "execution_count": 3,
   "metadata": {},
   "outputs": [
    {
     "data": {
      "text/plain": [
       "NoneType"
      ]
     },
     "execution_count": 3,
     "metadata": {},
     "output_type": "execute_result"
    }
   ],
   "source": [
    "type(f)"
   ]
  },
  {
   "cell_type": "code",
   "execution_count": 4,
   "metadata": {},
   "outputs": [
    {
     "ename": "TypeError",
     "evalue": "unsupported operand type(s) for +: 'NoneType' and 'int'",
     "output_type": "error",
     "traceback": [
      "\u001b[0;31m---------------------------------------------------------------------------\u001b[0m",
      "\u001b[0;31mTypeError\u001b[0m                                 Traceback (most recent call last)",
      "\u001b[0;32m<ipython-input-4-fdc93d486f4a>\u001b[0m in \u001b[0;36m<module>\u001b[0;34m\u001b[0m\n\u001b[0;32m----> 1\u001b[0;31m \u001b[0;32mNone\u001b[0m \u001b[0;34m+\u001b[0m \u001b[0;36m2\u001b[0m\u001b[0;34m\u001b[0m\u001b[0;34m\u001b[0m\u001b[0m\n\u001b[0m",
      "\u001b[0;31mTypeError\u001b[0m: unsupported operand type(s) for +: 'NoneType' and 'int'"
     ]
    }
   ],
   "source": [
    "None + 2"
   ]
  },
  {
   "cell_type": "code",
   "execution_count": 5,
   "metadata": {},
   "outputs": [
    {
     "data": {
      "text/plain": [
       "nan"
      ]
     },
     "execution_count": 5,
     "metadata": {},
     "output_type": "execute_result"
    }
   ],
   "source": [
    "import numpy as np\n",
    "np.nan + 2"
   ]
  },
  {
   "cell_type": "code",
   "execution_count": 6,
   "metadata": {},
   "outputs": [
    {
     "data": {
      "text/plain": [
       "float"
      ]
     },
     "execution_count": 6,
     "metadata": {},
     "output_type": "execute_result"
    }
   ],
   "source": [
    "type(np.nan)"
   ]
  },
  {
   "cell_type": "code",
   "execution_count": 7,
   "metadata": {},
   "outputs": [
    {
     "data": {
      "text/plain": [
       "0    1.0\n",
       "1    2.0\n",
       "2    NaN\n",
       "3    NaN\n",
       "dtype: float64"
      ]
     },
     "execution_count": 7,
     "metadata": {},
     "output_type": "execute_result"
    }
   ],
   "source": [
    "import pandas as pd\n",
    "s = pd.Series([1, 2, None, np.nan])\n",
    "s"
   ]
  },
  {
   "cell_type": "code",
   "execution_count": 8,
   "metadata": {},
   "outputs": [
    {
     "data": {
      "text/plain": [
       "3.0"
      ]
     },
     "execution_count": 8,
     "metadata": {},
     "output_type": "execute_result"
    }
   ],
   "source": [
    "s.sum()"
   ]
  },
  {
   "cell_type": "code",
   "execution_count": 9,
   "metadata": {},
   "outputs": [
    {
     "data": {
      "text/plain": [
       "0    False\n",
       "1    False\n",
       "2     True\n",
       "3     True\n",
       "dtype: bool"
      ]
     },
     "execution_count": 9,
     "metadata": {},
     "output_type": "execute_result"
    }
   ],
   "source": [
    "s.isna()"
   ]
  },
  {
   "cell_type": "code",
   "execution_count": 10,
   "metadata": {},
   "outputs": [
    {
     "data": {
      "text/html": [
       "<div>\n",
       "<style scoped>\n",
       "    .dataframe tbody tr th:only-of-type {\n",
       "        vertical-align: middle;\n",
       "    }\n",
       "\n",
       "    .dataframe tbody tr th {\n",
       "        vertical-align: top;\n",
       "    }\n",
       "\n",
       "    .dataframe thead th {\n",
       "        text-align: right;\n",
       "    }\n",
       "</style>\n",
       "<table border=\"1\" class=\"dataframe\">\n",
       "  <thead>\n",
       "    <tr style=\"text-align: right;\">\n",
       "      <th></th>\n",
       "      <th>one</th>\n",
       "      <th>two</th>\n",
       "    </tr>\n",
       "  </thead>\n",
       "  <tbody>\n",
       "    <tr>\n",
       "      <th>0</th>\n",
       "      <td>False</td>\n",
       "      <td>True</td>\n",
       "    </tr>\n",
       "    <tr>\n",
       "      <th>1</th>\n",
       "      <td>False</td>\n",
       "      <td>False</td>\n",
       "    </tr>\n",
       "    <tr>\n",
       "      <th>2</th>\n",
       "      <td>True</td>\n",
       "      <td>False</td>\n",
       "    </tr>\n",
       "  </tbody>\n",
       "</table>\n",
       "</div>"
      ],
      "text/plain": [
       "     one    two\n",
       "0  False   True\n",
       "1  False  False\n",
       "2   True  False"
      ]
     },
     "execution_count": 10,
     "metadata": {},
     "output_type": "execute_result"
    }
   ],
   "source": [
    "df = pd.DataFrame({\"one\": [1, 2, np.nan],\n",
    "                  \"two\": [np.nan, 3, 4]})\n",
    "df.isna()"
   ]
  },
  {
   "cell_type": "markdown",
   "metadata": {},
   "source": [
    "# 项目案例"
   ]
  },
  {
   "cell_type": "code",
   "execution_count": 11,
   "metadata": {},
   "outputs": [
    {
     "data": {
      "text/plain": [
       "AtBat        False\n",
       "Hits         False\n",
       "HmRun        False\n",
       "Runs         False\n",
       "RBI          False\n",
       "Walks        False\n",
       "Years        False\n",
       "CAtBat       False\n",
       "CHits        False\n",
       "CHmRun       False\n",
       "CRuns        False\n",
       "CRBI         False\n",
       "CWalks       False\n",
       "League       False\n",
       "Division     False\n",
       "PutOuts      False\n",
       "Assists      False\n",
       "Errors       False\n",
       "Salary        True\n",
       "NewLeague    False\n",
       "dtype: bool"
      ]
     },
     "execution_count": 11,
     "metadata": {},
     "output_type": "execute_result"
    }
   ],
   "source": [
    "hitters = pd.read_csv(\"./data/Hitters.csv\")\n",
    "hitters.isna().any()"
   ]
  },
  {
   "cell_type": "code",
   "execution_count": 12,
   "metadata": {},
   "outputs": [
    {
     "data": {
      "text/plain": [
       "AtBat        0.00000\n",
       "Hits         0.00000\n",
       "HmRun        0.00000\n",
       "Runs         0.00000\n",
       "RBI          0.00000\n",
       "Walks        0.00000\n",
       "Years        0.00000\n",
       "CAtBat       0.00000\n",
       "CHits        0.00000\n",
       "CHmRun       0.00000\n",
       "CRuns        0.00000\n",
       "CRBI         0.00000\n",
       "CWalks       0.00000\n",
       "League       0.00000\n",
       "Division     0.00000\n",
       "PutOuts      0.00000\n",
       "Assists      0.00000\n",
       "Errors       0.00000\n",
       "Salary       0.18323\n",
       "NewLeague    0.00000\n",
       "dtype: float64"
      ]
     },
     "execution_count": 12,
     "metadata": {},
     "output_type": "execute_result"
    }
   ],
   "source": [
    "(hitters.shape[0] - hitters.count()) / hitters.shape[0]"
   ]
  },
  {
   "cell_type": "code",
   "execution_count": 13,
   "metadata": {},
   "outputs": [
    {
     "data": {
      "text/plain": [
       "0    0.5\n",
       "1    0.0\n",
       "2    0.5\n",
       "dtype: float64"
      ]
     },
     "execution_count": 13,
     "metadata": {},
     "output_type": "execute_result"
    }
   ],
   "source": [
    "(df.shape[1] - df.T.count()) / df.shape[1]"
   ]
  },
  {
   "cell_type": "code",
   "execution_count": 14,
   "metadata": {},
   "outputs": [
    {
     "data": {
      "text/html": [
       "<div>\n",
       "<style scoped>\n",
       "    .dataframe tbody tr th:only-of-type {\n",
       "        vertical-align: middle;\n",
       "    }\n",
       "\n",
       "    .dataframe tbody tr th {\n",
       "        vertical-align: top;\n",
       "    }\n",
       "\n",
       "    .dataframe thead th {\n",
       "        text-align: right;\n",
       "    }\n",
       "</style>\n",
       "<table border=\"1\" class=\"dataframe\">\n",
       "  <thead>\n",
       "    <tr style=\"text-align: right;\">\n",
       "      <th></th>\n",
       "      <th>one</th>\n",
       "      <th>two</th>\n",
       "    </tr>\n",
       "  </thead>\n",
       "  <tbody>\n",
       "    <tr>\n",
       "      <th>1</th>\n",
       "      <td>2.0</td>\n",
       "      <td>3.0</td>\n",
       "    </tr>\n",
       "  </tbody>\n",
       "</table>\n",
       "</div>"
      ],
      "text/plain": [
       "   one  two\n",
       "1  2.0  3.0"
      ]
     },
     "execution_count": 14,
     "metadata": {},
     "output_type": "execute_result"
    }
   ],
   "source": [
    "df.dropna()"
   ]
  },
  {
   "cell_type": "code",
   "execution_count": 15,
   "metadata": {},
   "outputs": [],
   "source": [
    "df.dropna?"
   ]
  },
  {
   "cell_type": "code",
   "execution_count": 16,
   "metadata": {},
   "outputs": [
    {
     "data": {
      "text/html": [
       "<div>\n",
       "<style scoped>\n",
       "    .dataframe tbody tr th:only-of-type {\n",
       "        vertical-align: middle;\n",
       "    }\n",
       "\n",
       "    .dataframe tbody tr th {\n",
       "        vertical-align: top;\n",
       "    }\n",
       "\n",
       "    .dataframe thead th {\n",
       "        text-align: right;\n",
       "    }\n",
       "</style>\n",
       "<table border=\"1\" class=\"dataframe\">\n",
       "  <thead>\n",
       "    <tr style=\"text-align: right;\">\n",
       "      <th></th>\n",
       "      <th>one</th>\n",
       "      <th>two</th>\n",
       "      <th>three</th>\n",
       "    </tr>\n",
       "  </thead>\n",
       "  <tbody>\n",
       "    <tr>\n",
       "      <th>0</th>\n",
       "      <td>1.0</td>\n",
       "      <td>NaN</td>\n",
       "      <td>NaN</td>\n",
       "    </tr>\n",
       "    <tr>\n",
       "      <th>1</th>\n",
       "      <td>2.0</td>\n",
       "      <td>3.0</td>\n",
       "      <td>NaN</td>\n",
       "    </tr>\n",
       "    <tr>\n",
       "      <th>2</th>\n",
       "      <td>NaN</td>\n",
       "      <td>4.0</td>\n",
       "      <td>NaN</td>\n",
       "    </tr>\n",
       "    <tr>\n",
       "      <th>3</th>\n",
       "      <td>NaN</td>\n",
       "      <td>NaN</td>\n",
       "      <td>NaN</td>\n",
       "    </tr>\n",
       "  </tbody>\n",
       "</table>\n",
       "</div>"
      ],
      "text/plain": [
       "   one  two  three\n",
       "0  1.0  NaN    NaN\n",
       "1  2.0  3.0    NaN\n",
       "2  NaN  4.0    NaN\n",
       "3  NaN  NaN    NaN"
      ]
     },
     "execution_count": 16,
     "metadata": {},
     "output_type": "execute_result"
    }
   ],
   "source": [
    "df = pd.concat([df, pd.DataFrame({\"one\": [np.nan],\n",
    "                                 \"two\": [np.nan],\n",
    "                                 \"three\": [np.nan]})],\n",
    "              ignore_index=True,\n",
    "              sort=False)\n",
    "df"
   ]
  },
  {
   "cell_type": "code",
   "execution_count": 17,
   "metadata": {},
   "outputs": [
    {
     "data": {
      "text/html": [
       "<div>\n",
       "<style scoped>\n",
       "    .dataframe tbody tr th:only-of-type {\n",
       "        vertical-align: middle;\n",
       "    }\n",
       "\n",
       "    .dataframe tbody tr th {\n",
       "        vertical-align: top;\n",
       "    }\n",
       "\n",
       "    .dataframe thead th {\n",
       "        text-align: right;\n",
       "    }\n",
       "</style>\n",
       "<table border=\"1\" class=\"dataframe\">\n",
       "  <thead>\n",
       "    <tr style=\"text-align: right;\">\n",
       "      <th></th>\n",
       "      <th>one</th>\n",
       "      <th>two</th>\n",
       "      <th>three</th>\n",
       "    </tr>\n",
       "  </thead>\n",
       "  <tbody>\n",
       "    <tr>\n",
       "      <th>0</th>\n",
       "      <td>1.0</td>\n",
       "      <td>NaN</td>\n",
       "      <td>NaN</td>\n",
       "    </tr>\n",
       "    <tr>\n",
       "      <th>1</th>\n",
       "      <td>2.0</td>\n",
       "      <td>3.0</td>\n",
       "      <td>NaN</td>\n",
       "    </tr>\n",
       "    <tr>\n",
       "      <th>2</th>\n",
       "      <td>NaN</td>\n",
       "      <td>4.0</td>\n",
       "      <td>NaN</td>\n",
       "    </tr>\n",
       "  </tbody>\n",
       "</table>\n",
       "</div>"
      ],
      "text/plain": [
       "   one  two  three\n",
       "0  1.0  NaN    NaN\n",
       "1  2.0  3.0    NaN\n",
       "2  NaN  4.0    NaN"
      ]
     },
     "execution_count": 17,
     "metadata": {},
     "output_type": "execute_result"
    }
   ],
   "source": [
    "df.dropna(axis=0, how='all')"
   ]
  },
  {
   "cell_type": "code",
   "execution_count": 18,
   "metadata": {},
   "outputs": [
    {
     "data": {
      "text/html": [
       "<div>\n",
       "<style scoped>\n",
       "    .dataframe tbody tr th:only-of-type {\n",
       "        vertical-align: middle;\n",
       "    }\n",
       "\n",
       "    .dataframe tbody tr th {\n",
       "        vertical-align: top;\n",
       "    }\n",
       "\n",
       "    .dataframe thead th {\n",
       "        text-align: right;\n",
       "    }\n",
       "</style>\n",
       "<table border=\"1\" class=\"dataframe\">\n",
       "  <thead>\n",
       "    <tr style=\"text-align: right;\">\n",
       "      <th></th>\n",
       "      <th>one</th>\n",
       "      <th>two</th>\n",
       "      <th>three</th>\n",
       "    </tr>\n",
       "  </thead>\n",
       "  <tbody>\n",
       "    <tr>\n",
       "      <th>1</th>\n",
       "      <td>2.0</td>\n",
       "      <td>3.0</td>\n",
       "      <td>NaN</td>\n",
       "    </tr>\n",
       "  </tbody>\n",
       "</table>\n",
       "</div>"
      ],
      "text/plain": [
       "   one  two  three\n",
       "1  2.0  3.0    NaN"
      ]
     },
     "execution_count": 18,
     "metadata": {},
     "output_type": "execute_result"
    }
   ],
   "source": [
    "df.dropna(thresh=2)"
   ]
  },
  {
   "cell_type": "code",
   "execution_count": 19,
   "metadata": {},
   "outputs": [
    {
     "data": {
      "text/plain": [
       "AtBat        False\n",
       "Hits         False\n",
       "HmRun        False\n",
       "Runs         False\n",
       "RBI          False\n",
       "Walks        False\n",
       "Years        False\n",
       "CAtBat       False\n",
       "CHits        False\n",
       "CHmRun       False\n",
       "CRuns        False\n",
       "CRBI         False\n",
       "CWalks       False\n",
       "League       False\n",
       "Division     False\n",
       "PutOuts      False\n",
       "Assists      False\n",
       "Errors       False\n",
       "Salary       False\n",
       "NewLeague    False\n",
       "dtype: bool"
      ]
     },
     "execution_count": 19,
     "metadata": {},
     "output_type": "execute_result"
    }
   ],
   "source": [
    "hitters_nona = hitters.dropna()\n",
    "hitters_nona.isna().any()"
   ]
  },
  {
   "cell_type": "code",
   "execution_count": 20,
   "metadata": {},
   "outputs": [
    {
     "name": "stdout",
     "output_type": "stream",
     "text": [
      "<class 'pandas.core.frame.DataFrame'>\n",
      "Int64Index: 263 entries, 1 to 321\n",
      "Data columns (total 20 columns):\n",
      " #   Column     Non-Null Count  Dtype  \n",
      "---  ------     --------------  -----  \n",
      " 0   AtBat      263 non-null    int64  \n",
      " 1   Hits       263 non-null    int64  \n",
      " 2   HmRun      263 non-null    int64  \n",
      " 3   Runs       263 non-null    int64  \n",
      " 4   RBI        263 non-null    int64  \n",
      " 5   Walks      263 non-null    int64  \n",
      " 6   Years      263 non-null    int64  \n",
      " 7   CAtBat     263 non-null    int64  \n",
      " 8   CHits      263 non-null    int64  \n",
      " 9   CHmRun     263 non-null    int64  \n",
      " 10  CRuns      263 non-null    int64  \n",
      " 11  CRBI       263 non-null    int64  \n",
      " 12  CWalks     263 non-null    int64  \n",
      " 13  League     263 non-null    object \n",
      " 14  Division   263 non-null    object \n",
      " 15  PutOuts    263 non-null    int64  \n",
      " 16  Assists    263 non-null    int64  \n",
      " 17  Errors     263 non-null    int64  \n",
      " 18  Salary     263 non-null    float64\n",
      " 19  NewLeague  263 non-null    object \n",
      "dtypes: float64(1), int64(16), object(3)\n",
      "memory usage: 43.1+ KB\n"
     ]
    }
   ],
   "source": [
    "hitters_nona.info()"
   ]
  },
  {
   "cell_type": "markdown",
   "metadata": {},
   "source": [
    "# 动手练习"
   ]
  },
  {
   "cell_type": "code",
   "execution_count": 21,
   "metadata": {},
   "outputs": [
    {
     "data": {
      "text/plain": [
       "atomic number               False\n",
       "symbol                      False\n",
       "name                        False\n",
       "atomic mass                 False\n",
       "CPK                         False\n",
       "electronic configuration    False\n",
       "electronegativity            True\n",
       "atomic radius                True\n",
       "ion radius                   True\n",
       "van der Waals radius         True\n",
       "IE-1                         True\n",
       "EA                           True\n",
       "standard state               True\n",
       "bonding type                 True\n",
       "melting point                True\n",
       "boiling point                True\n",
       "density                      True\n",
       "metal                       False\n",
       "year discovered             False\n",
       "group                       False\n",
       "period                      False\n",
       "dtype: bool"
      ]
     },
     "execution_count": 21,
     "metadata": {},
     "output_type": "execute_result"
    }
   ],
   "source": [
    "elements = pd.read_csv(\"./data/elements.csv\")\n",
    "elements.isna().any()"
   ]
  },
  {
   "cell_type": "code",
   "execution_count": 23,
   "metadata": {},
   "outputs": [
    {
     "data": {
      "text/plain": [
       "atomic number               0.000000\n",
       "symbol                      0.000000\n",
       "name                        0.000000\n",
       "atomic mass                 0.000000\n",
       "CPK                         0.000000\n",
       "electronic configuration    0.000000\n",
       "electronegativity           0.177966\n",
       "atomic radius               0.398305\n",
       "ion radius                  0.220339\n",
       "van der Waals radius        0.677966\n",
       "IE-1                        0.135593\n",
       "EA                          0.279661\n",
       "standard state              0.161017\n",
       "bonding type                0.169492\n",
       "melting point               0.144068\n",
       "boiling point               0.203390\n",
       "density                     0.186441\n",
       "metal                       0.000000\n",
       "year discovered             0.000000\n",
       "group                       0.000000\n",
       "period                      0.000000\n",
       "dtype: float64"
      ]
     },
     "execution_count": 23,
     "metadata": {},
     "output_type": "execute_result"
    }
   ],
   "source": [
    "(elements.shape[0] - elements.count()) / elements.shape[0]"
   ]
  },
  {
   "cell_type": "code",
   "execution_count": 24,
   "metadata": {},
   "outputs": [
    {
     "data": {
      "text/plain": [
       "0      0.047619\n",
       "1      0.142857\n",
       "2      0.000000\n",
       "3      0.047619\n",
       "4      0.047619\n",
       "         ...   \n",
       "113    0.523810\n",
       "114    0.523810\n",
       "115    0.523810\n",
       "116    0.523810\n",
       "117    0.523810\n",
       "Length: 118, dtype: float64"
      ]
     },
     "execution_count": 24,
     "metadata": {},
     "output_type": "execute_result"
    }
   ],
   "source": [
    "(elements.shape[1] - elements.T.count()) / elements.shape[1]"
   ]
  },
  {
   "cell_type": "code",
   "execution_count": 25,
   "metadata": {},
   "outputs": [
    {
     "name": "stdout",
     "output_type": "stream",
     "text": [
      "<class 'pandas.core.frame.DataFrame'>\n",
      "Int64Index: 31 entries, 2 to 81\n",
      "Data columns (total 21 columns):\n",
      " #   Column                    Non-Null Count  Dtype  \n",
      "---  ------                    --------------  -----  \n",
      " 0   atomic number             31 non-null     int64  \n",
      " 1   symbol                    31 non-null     object \n",
      " 2   name                      31 non-null     object \n",
      " 3   atomic mass               31 non-null     object \n",
      " 4   CPK                       31 non-null     object \n",
      " 5   electronic configuration  31 non-null     object \n",
      " 6   electronegativity         31 non-null     float64\n",
      " 7   atomic radius             31 non-null     float64\n",
      " 8   ion radius                31 non-null     object \n",
      " 9   van der Waals radius      31 non-null     float64\n",
      " 10  IE-1                      31 non-null     float64\n",
      " 11  EA                        31 non-null     float64\n",
      " 12  standard state            31 non-null     object \n",
      " 13  bonding type              31 non-null     object \n",
      " 14  melting point             31 non-null     float64\n",
      " 15  boiling point             31 non-null     float64\n",
      " 16  density                   31 non-null     float64\n",
      " 17  metal                     31 non-null     object \n",
      " 18  year discovered           31 non-null     object \n",
      " 19  group                     31 non-null     object \n",
      " 20  period                    31 non-null     int64  \n",
      "dtypes: float64(8), int64(2), object(11)\n",
      "memory usage: 5.3+ KB\n"
     ]
    }
   ],
   "source": [
    "elements_nona = elements.dropna()\n",
    "elements_nona.info()"
   ]
  },
  {
   "cell_type": "code",
   "execution_count": 26,
   "metadata": {},
   "outputs": [
    {
     "data": {
      "text/plain": [
       "atomic number               False\n",
       "symbol                      False\n",
       "name                        False\n",
       "atomic mass                 False\n",
       "CPK                         False\n",
       "electronic configuration    False\n",
       "electronegativity           False\n",
       "atomic radius               False\n",
       "ion radius                  False\n",
       "van der Waals radius        False\n",
       "IE-1                        False\n",
       "EA                          False\n",
       "standard state              False\n",
       "bonding type                False\n",
       "melting point               False\n",
       "boiling point               False\n",
       "density                     False\n",
       "metal                       False\n",
       "year discovered             False\n",
       "group                       False\n",
       "period                      False\n",
       "dtype: bool"
      ]
     },
     "execution_count": 26,
     "metadata": {},
     "output_type": "execute_result"
    }
   ],
   "source": [
    "elements_nona.isna().any()"
   ]
  },
  {
   "cell_type": "code",
   "execution_count": 27,
   "metadata": {},
   "outputs": [
    {
     "data": {
      "text/html": [
       "<div>\n",
       "<style scoped>\n",
       "    .dataframe tbody tr th:only-of-type {\n",
       "        vertical-align: middle;\n",
       "    }\n",
       "\n",
       "    .dataframe tbody tr th {\n",
       "        vertical-align: top;\n",
       "    }\n",
       "\n",
       "    .dataframe thead th {\n",
       "        text-align: right;\n",
       "    }\n",
       "</style>\n",
       "<table border=\"1\" class=\"dataframe\">\n",
       "  <thead>\n",
       "    <tr style=\"text-align: right;\">\n",
       "      <th></th>\n",
       "      <th>atomic number</th>\n",
       "      <th>symbol</th>\n",
       "      <th>name</th>\n",
       "      <th>atomic mass</th>\n",
       "      <th>CPK</th>\n",
       "      <th>electronic configuration</th>\n",
       "      <th>electronegativity</th>\n",
       "      <th>atomic radius</th>\n",
       "      <th>ion radius</th>\n",
       "      <th>van der Waals radius</th>\n",
       "      <th>...</th>\n",
       "      <th>EA</th>\n",
       "      <th>standard state</th>\n",
       "      <th>bonding type</th>\n",
       "      <th>melting point</th>\n",
       "      <th>boiling point</th>\n",
       "      <th>density</th>\n",
       "      <th>metal</th>\n",
       "      <th>year discovered</th>\n",
       "      <th>group</th>\n",
       "      <th>period</th>\n",
       "    </tr>\n",
       "  </thead>\n",
       "  <tbody>\n",
       "    <tr>\n",
       "      <th>2</th>\n",
       "      <td>3</td>\n",
       "      <td>Li</td>\n",
       "      <td>Lithium</td>\n",
       "      <td>6.941</td>\n",
       "      <td>#CC80FF</td>\n",
       "      <td>[He] 2s1</td>\n",
       "      <td>0.98</td>\n",
       "      <td>134.0</td>\n",
       "      <td>76 (+1)</td>\n",
       "      <td>182.0</td>\n",
       "      <td>...</td>\n",
       "      <td>-60.0</td>\n",
       "      <td>solid</td>\n",
       "      <td>metallic</td>\n",
       "      <td>454.0</td>\n",
       "      <td>1615.0</td>\n",
       "      <td>0.54</td>\n",
       "      <td>alkali metal</td>\n",
       "      <td>1817</td>\n",
       "      <td>1</td>\n",
       "      <td>2</td>\n",
       "    </tr>\n",
       "    <tr>\n",
       "      <th>5</th>\n",
       "      <td>6</td>\n",
       "      <td>C</td>\n",
       "      <td>Carbon</td>\n",
       "      <td>12.0107</td>\n",
       "      <td>#909090</td>\n",
       "      <td>[He] 2s2 2p2</td>\n",
       "      <td>2.55</td>\n",
       "      <td>77.0</td>\n",
       "      <td>16 (+4)</td>\n",
       "      <td>170.0</td>\n",
       "      <td>...</td>\n",
       "      <td>-154.0</td>\n",
       "      <td>solid</td>\n",
       "      <td>covalent network</td>\n",
       "      <td>3823.0</td>\n",
       "      <td>4300.0</td>\n",
       "      <td>2.26</td>\n",
       "      <td>nonmetal</td>\n",
       "      <td>Ancient</td>\n",
       "      <td>14</td>\n",
       "      <td>2</td>\n",
       "    </tr>\n",
       "    <tr>\n",
       "      <th>6</th>\n",
       "      <td>7</td>\n",
       "      <td>N</td>\n",
       "      <td>Nitrogen</td>\n",
       "      <td>14.0067</td>\n",
       "      <td>#3050F8</td>\n",
       "      <td>[He] 2s2 2p3</td>\n",
       "      <td>3.04</td>\n",
       "      <td>75.0</td>\n",
       "      <td>146 (-3)</td>\n",
       "      <td>155.0</td>\n",
       "      <td>...</td>\n",
       "      <td>-7.0</td>\n",
       "      <td>gas</td>\n",
       "      <td>diatomic</td>\n",
       "      <td>63.0</td>\n",
       "      <td>77.0</td>\n",
       "      <td>0.00</td>\n",
       "      <td>nonmetal</td>\n",
       "      <td>1772</td>\n",
       "      <td>15</td>\n",
       "      <td>2</td>\n",
       "    </tr>\n",
       "    <tr>\n",
       "      <th>7</th>\n",
       "      <td>8</td>\n",
       "      <td>O</td>\n",
       "      <td>Oxygen</td>\n",
       "      <td>15.9994</td>\n",
       "      <td>#FF0D0D</td>\n",
       "      <td>[He] 2s2 2p4</td>\n",
       "      <td>3.44</td>\n",
       "      <td>73.0</td>\n",
       "      <td>140 (-2)</td>\n",
       "      <td>152.0</td>\n",
       "      <td>...</td>\n",
       "      <td>-141.0</td>\n",
       "      <td>gas</td>\n",
       "      <td>diatomic</td>\n",
       "      <td>55.0</td>\n",
       "      <td>90.0</td>\n",
       "      <td>0.00</td>\n",
       "      <td>nonmetal</td>\n",
       "      <td>1774</td>\n",
       "      <td>16</td>\n",
       "      <td>2</td>\n",
       "    </tr>\n",
       "    <tr>\n",
       "      <th>8</th>\n",
       "      <td>9</td>\n",
       "      <td>F</td>\n",
       "      <td>Fluorine</td>\n",
       "      <td>18.9984032</td>\n",
       "      <td>#90E050</td>\n",
       "      <td>[He] 2s2 2p5</td>\n",
       "      <td>3.98</td>\n",
       "      <td>71.0</td>\n",
       "      <td>133 (-1)</td>\n",
       "      <td>147.0</td>\n",
       "      <td>...</td>\n",
       "      <td>-328.0</td>\n",
       "      <td>gas</td>\n",
       "      <td>atomic</td>\n",
       "      <td>54.0</td>\n",
       "      <td>85.0</td>\n",
       "      <td>0.00</td>\n",
       "      <td>halogen</td>\n",
       "      <td>1670</td>\n",
       "      <td>17</td>\n",
       "      <td>2</td>\n",
       "    </tr>\n",
       "  </tbody>\n",
       "</table>\n",
       "<p>5 rows × 21 columns</p>\n",
       "</div>"
      ],
      "text/plain": [
       "   atomic number symbol      name atomic mass      CPK  \\\n",
       "2              3     Li   Lithium       6.941  #CC80FF   \n",
       "5              6      C    Carbon     12.0107  #909090   \n",
       "6              7      N  Nitrogen     14.0067  #3050F8   \n",
       "7              8      O    Oxygen     15.9994  #FF0D0D   \n",
       "8              9      F  Fluorine  18.9984032  #90E050   \n",
       "\n",
       "  electronic configuration  electronegativity  atomic radius ion radius  \\\n",
       "2                 [He] 2s1               0.98          134.0    76 (+1)   \n",
       "5             [He] 2s2 2p2               2.55           77.0    16 (+4)   \n",
       "6             [He] 2s2 2p3               3.04           75.0   146 (-3)   \n",
       "7             [He] 2s2 2p4               3.44           73.0   140 (-2)   \n",
       "8             [He] 2s2 2p5               3.98           71.0   133 (-1)   \n",
       "\n",
       "   van der Waals radius  ...     EA  standard state      bonding type  \\\n",
       "2                 182.0  ...  -60.0           solid          metallic   \n",
       "5                 170.0  ... -154.0           solid  covalent network   \n",
       "6                 155.0  ...   -7.0             gas          diatomic   \n",
       "7                 152.0  ... -141.0             gas          diatomic   \n",
       "8                 147.0  ... -328.0             gas            atomic   \n",
       "\n",
       "  melting point  boiling point  density         metal year discovered group  \\\n",
       "2         454.0         1615.0     0.54  alkali metal            1817     1   \n",
       "5        3823.0         4300.0     2.26      nonmetal         Ancient    14   \n",
       "6          63.0           77.0     0.00      nonmetal            1772    15   \n",
       "7          55.0           90.0     0.00      nonmetal            1774    16   \n",
       "8          54.0           85.0     0.00       halogen            1670    17   \n",
       "\n",
       "  period  \n",
       "2      2  \n",
       "5      2  \n",
       "6      2  \n",
       "7      2  \n",
       "8      2  \n",
       "\n",
       "[5 rows x 21 columns]"
      ]
     },
     "execution_count": 27,
     "metadata": {},
     "output_type": "execute_result"
    }
   ],
   "source": [
    "elements_nona.head()"
   ]
  },
  {
   "cell_type": "code",
   "execution_count": 28,
   "metadata": {},
   "outputs": [
    {
     "data": {
      "text/plain": [
       "(31, 21)"
      ]
     },
     "execution_count": 28,
     "metadata": {},
     "output_type": "execute_result"
    }
   ],
   "source": [
    "elements_nona.shape"
   ]
  },
  {
   "cell_type": "markdown",
   "metadata": {},
   "source": [
    "# 拓展研究"
   ]
  },
  {
   "cell_type": "markdown",
   "metadata": {},
   "source": [
    "* 检查数据库表的记录中是否存在缺失值"
   ]
  },
  {
   "cell_type": "markdown",
   "metadata": {},
   "source": [
    "SELECT LastName,FirstName,Address FROM Persons WHERE Address IS NULL"
   ]
  },
  {
   "cell_type": "markdown",
   "metadata": {},
   "source": [
    "SELECT LastName,FirstName,Address FROM Persons WHERE Address IS NOT NULL"
   ]
  },
  {
   "cell_type": "markdown",
   "metadata": {},
   "source": [
    "* 将缺失值所在记录删除"
   ]
  },
  {
   "cell_type": "markdown",
   "metadata": {},
   "source": [
    "DELETE FROM Person WHERE LastName IS NULL"
   ]
  }
 ],
 "metadata": {
  "kernelspec": {
   "display_name": "Python 3",
   "language": "python",
   "name": "python3"
  },
  "language_info": {
   "codemirror_mode": {
    "name": "ipython",
    "version": 3
   },
   "file_extension": ".py",
   "mimetype": "text/x-python",
   "name": "python",
   "nbconvert_exporter": "python",
   "pygments_lexer": "ipython3",
   "version": "3.8.5"
  }
 },
 "nbformat": 4,
 "nbformat_minor": 4
}
